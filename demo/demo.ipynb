{
 "cells": [
  {
   "cell_type": "code",
   "execution_count": 1,
   "metadata": {},
   "outputs": [
    {
     "name": "stderr",
     "output_type": "stream",
     "text": [
      "/home/monsh/anaconda3/envs/lawbuddy/lib/python3.11/site-packages/tqdm/auto.py:21: TqdmWarning: IProgress not found. Please update jupyter and ipywidgets. See https://ipywidgets.readthedocs.io/en/stable/user_install.html\n",
      "  from .autonotebook import tqdm as notebook_tqdm\n",
      "/home/monsh/anaconda3/envs/lawbuddy/lib/python3.11/site-packages/pydantic/_internal/_fields.py:132: UserWarning: Field \"model_id\" in DeployedModel has conflict with protected namespace \"model_\".\n",
      "\n",
      "You may be able to resolve this warning by setting `model_config['protected_namespaces'] = ()`.\n",
      "  warnings.warn(\n",
      "/home/monsh/anaconda3/envs/lawbuddy/lib/python3.11/site-packages/pydantic/_internal/_fields.py:132: UserWarning: Field \"model_name\" in HuggingFaceLLM has conflict with protected namespace \"model_\".\n",
      "\n",
      "You may be able to resolve this warning by setting `model_config['protected_namespaces'] = ()`.\n",
      "  warnings.warn(\n",
      "/home/monsh/anaconda3/envs/lawbuddy/lib/python3.11/site-packages/pydantic/_internal/_fields.py:132: UserWarning: Field \"model_kwargs\" in HuggingFaceLLM has conflict with protected namespace \"model_\".\n",
      "\n",
      "You may be able to resolve this warning by setting `model_config['protected_namespaces'] = ()`.\n",
      "  warnings.warn(\n",
      "/home/monsh/anaconda3/envs/lawbuddy/lib/python3.11/site-packages/pydantic/_internal/_fields.py:132: UserWarning: Field \"model_name\" in HuggingFaceInferenceAPI has conflict with protected namespace \"model_\".\n",
      "\n",
      "You may be able to resolve this warning by setting `model_config['protected_namespaces'] = ()`.\n",
      "  warnings.warn(\n",
      "/home/monsh/anaconda3/envs/lawbuddy/lib/python3.11/site-packages/pydantic/_internal/_fields.py:132: UserWarning: Field \"model_name\" in TextGenerationInference has conflict with protected namespace \"model_\".\n",
      "\n",
      "You may be able to resolve this warning by setting `model_config['protected_namespaces'] = ()`.\n",
      "  warnings.warn(\n"
     ]
    }
   ],
   "source": [
    "from pocqa.pipeline import SimplePipeline"
   ]
  },
  {
   "cell_type": "code",
   "execution_count": 2,
   "metadata": {},
   "outputs": [],
   "source": [
    "pipeline = SimplePipeline.from_openai(model=\"gpt-3.5-turbo\")"
   ]
  },
  {
   "cell_type": "code",
   "execution_count": 3,
   "metadata": {},
   "outputs": [],
   "source": [
    "comments = [\n",
    "    \"สินค้าดีราคาไม่แพงคุณภาพเหมาะสมตามราคาครับใช้งานได้ดีครับส่วนทางร้านจัดส่งสินค้ามาไม่ช้าไม่เร็วได้รับสินค้ามาครบและตรงปกครับและไม่มีอะไรเสียหายจากการขนส่งครับผม\",\n",
    "    \"แก้วน้ำเก์บความเย์นคุณภาพดีมาก จ้ะคุ้มค่าราคาไม่แพงสีสวยค่ะ..ทางร้านบริการดีมากแพ็คสินค้าเรียบร้อยจัดส่งสินค้ารวดเร็ว..\\n ขนส่งส่งของไว้มาก.. \\nขอบคุณนะคะ😊\",\n",
    "    \"ที่พักดูน่าสนใจจากภาพและรีวิวออนไลน์ บรรยากาศอบอุ่นและทำเลดี เหมาะสำหรับการพักผ่อนและการเดินทาง\",\n",
    "    \"เห็นเล็กๆ แต่ก็มีอาหารสด อาหารแช่แข็งเยอะอยู่ ถึงจะไม่หลากหลาย ปัญหาเดียวของที่นี่ก็คือที่จอดรถน้อยมากเมื่อเทียบกะสาขาอื่นๆ แต่พนักงานก็โบกรถจัดระเบียบได้ดี รถก็ไหลเข้าออกดีอยู่ รอไม่นานครับ\",\n",
    "    \"ส่งของช้ามาก\",\n",
    "    \"สินค้าไม่โอเคเลยโดยเฉพาะผักผลไม้สด ราคาสูงแต่ไม่มีการตรวจสอบคุณภาพก่อนจะนำมาจำหน่ายเลยเหรอ? เอาของเก่าของใหม่ปนกันมั่วไปหมด ถึงจะเปลี่ยนได้แต่มันเสียเวลาลูกค้าไหม? จะให้วิ่งไปวิ่งมาทำไม? ซื้อมาสองกล่องดีหนึ่งกล่องอีกกล่องเปิดมาคือเหม็นเปรี้ยวขึ้นรา อย่าโยนภาระให้ลูกค้าด้วยการบอกว่าทำไมไม่เปิดดูก่อนจะซื้อไป...ขอโทษนะลูกค้าน่ะไม่รู้หรอกว่าของมาเมื่อไหร่แต่คุณอยู่กับสินค้าทุกวันถ้ามันนานแล้วก็ต้องตรวจเช็คไหม? บริหารจัดการให้มันดีกว่านี้หน่อยเถอะนะ ปล.ของซื้อวันนี้ร้านก็ต้องเปิดของก็ต้องไปเปลี่ยนต้องเสียเงินจ้างวินทั้งไปกลับอีก...แย่\"\n",
    "]\n",
    "comment = comments[5]\n",
    "\n",
    "result = pipeline.assess(comment)"
   ]
  },
  {
   "cell_type": "code",
   "execution_count": null,
   "metadata": {},
   "outputs": [],
   "source": [
    "print(result)"
   ]
  }
 ],
 "metadata": {
  "kernelspec": {
   "display_name": "lawbuddy",
   "language": "python",
   "name": "python3"
  },
  "language_info": {
   "codemirror_mode": {
    "name": "ipython",
    "version": 3
   },
   "file_extension": ".py",
   "mimetype": "text/x-python",
   "name": "python",
   "nbconvert_exporter": "python",
   "pygments_lexer": "ipython3",
   "version": "3.11.10"
  }
 },
 "nbformat": 4,
 "nbformat_minor": 2
}
